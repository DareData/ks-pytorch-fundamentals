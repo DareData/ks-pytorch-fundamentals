{
 "cells": [
  {
   "cell_type": "code",
   "execution_count": 18,
   "metadata": {},
   "outputs": [],
   "source": [
    "import torch\n",
    "from torch.utils.data import Dataset, DataLoader\n",
    "from torchvision import datasets\n",
    "\n",
    "from torchvision.transforms import ToTensor\n",
    "import matplotlib.pyplot as plt\n",
    "import pandas as pd"
   ]
  },
  {
   "cell_type": "markdown",
   "metadata": {},
   "source": [
    "First, let's create a Custom Dataset using random numbers, inheriting from the `Dataset` class:"
   ]
  },
  {
   "cell_type": "code",
   "execution_count": 5,
   "metadata": {},
   "outputs": [],
   "source": [
    "class RandomIntDataset(Dataset):\n",
    "    def __init__(self, start, stop, x, y):\n",
    "        self.data = torch.randint(start, stop, (x,y))\n",
    "        self.labels = torch.randint(0, 10, (x,))\n",
    "\n",
    "    def __len__(self):\n",
    "        return len(self.labels)\n",
    "\n",
    "    def __str__(self):\n",
    "        return str(torch.cat((self.data, self.labels.unsqueeze(1)), 1))\n",
    "\n",
    "    def __getitem__(self, i):\n",
    "        return self.data[i], self.labels[i]"
   ]
  },
  {
   "cell_type": "code",
   "execution_count": 6,
   "metadata": {},
   "outputs": [],
   "source": [
    "dataset = RandomIntDataset(100, 1000, 500, 10)"
   ]
  },
  {
   "cell_type": "markdown",
   "metadata": {},
   "source": [
    "There's some interesting properties that we may use with our custom *Dataset*:"
   ]
  },
  {
   "cell_type": "code",
   "execution_count": 14,
   "metadata": {},
   "outputs": [
    {
     "data": {
      "text/plain": [
       "500"
      ]
     },
     "execution_count": 14,
     "metadata": {},
     "output_type": "execute_result"
    }
   ],
   "source": [
    "len(dataset)"
   ]
  },
  {
   "cell_type": "code",
   "execution_count": 15,
   "metadata": {},
   "outputs": [
    {
     "data": {
      "text/plain": [
       "'tensor([[779, 619, 804,  ..., 499, 265,   9],\\n        [244, 943, 755,  ..., 220, 688,   9],\\n        [587, 379, 261,  ..., 660, 522,   6],\\n        ...,\\n        [260, 759, 319,  ..., 638, 729,   6],\\n        [611, 241, 974,  ..., 112, 688,   7],\\n        [967, 677, 133,  ..., 209, 144,   7]])'"
      ]
     },
     "execution_count": 15,
     "metadata": {},
     "output_type": "execute_result"
    }
   ],
   "source": [
    "str(dataset)"
   ]
  },
  {
   "cell_type": "markdown",
   "metadata": {},
   "source": [
    "Also, as we are inheriting from the `Dataset` module we have the power of using batches in our data with `DataLoader`:"
   ]
  },
  {
   "cell_type": "code",
   "execution_count": 17,
   "metadata": {},
   "outputs": [
    {
     "data": {
      "text/plain": [
       "tensor([[683, 484, 235, 188, 722, 391, 935, 723, 572, 824],\n",
       "        [154, 960, 672, 540, 746, 491, 173, 704, 442, 182],\n",
       "        [511, 125, 257, 619, 276, 502, 537, 963, 307, 999],\n",
       "        [729, 749, 271, 924, 578, 784, 337, 858, 420, 303],\n",
       "        [805, 383, 557, 768, 214, 244, 739, 448, 408, 425],\n",
       "        [823, 789, 699, 961, 356, 135, 433, 248, 454, 947],\n",
       "        [226, 181, 478, 139, 869, 629, 177, 442, 349, 901],\n",
       "        [838, 379, 330, 698, 991, 659, 635, 667, 520, 970],\n",
       "        [444, 171, 988, 759, 397, 267, 758, 985, 728, 760],\n",
       "        [854, 934, 190, 433, 552, 100, 822, 860, 297, 793]])"
      ]
     },
     "execution_count": 17,
     "metadata": {},
     "output_type": "execute_result"
    }
   ],
   "source": [
    "dataset_loader = DataLoader(dataset, batch_size=10, shuffle=True)\n",
    "data, labels = next(iter(dataset_loader))\n",
    "data"
   ]
  },
  {
   "cell_type": "markdown",
   "metadata": {},
   "source": [
    "You can also combine tensor `Datasets` with `pd` loaders to create your own data: "
   ]
  },
  {
   "cell_type": "code",
   "execution_count": 49,
   "metadata": {},
   "outputs": [],
   "source": [
    "class TaxiSample(Dataset):\n",
    "    def __init__(self):\n",
    "        super().__init__()\n",
    "        df = pd.read_csv('data/taxi_data_sample.csv')\n",
    "        \n",
    "        features = ['passenger_count',\n",
    "                    'pickup_longitude',\n",
    "                    'pickup_latitude',\n",
    "                    'dropoff_longitude',\n",
    "                    'dropoff_latitude']\n",
    "        \n",
    "        target = 'trip_duration'\n",
    "        \n",
    "        self.features = torch.tensor(df[features].values, \n",
    "                                     dtype=torch.float32)\n",
    "\n",
    "        self.labels = torch.tensor(df[target].values, \n",
    "                                     dtype=torch.float32)\n",
    "\n",
    "    def __len__(self):\n",
    "        return len(self.labels)\n",
    "\n",
    "    def __getitem__(self, idx):\n",
    "        return self.features[idx], self.labels[idx]"
   ]
  },
  {
   "cell_type": "code",
   "execution_count": 57,
   "metadata": {},
   "outputs": [],
   "source": [
    "# Defining data and loader\n",
    "data_taxi = TaxiSample()\n",
    "dataset_loader = DataLoader(data_taxi, batch_size=20, shuffle=True)"
   ]
  },
  {
   "cell_type": "code",
   "execution_count": 58,
   "metadata": {},
   "outputs": [],
   "source": [
    "data_iterator = iter(dataset_loader)\n",
    "data, labels = next(data_iterator)"
   ]
  },
  {
   "cell_type": "code",
   "execution_count": 60,
   "metadata": {},
   "outputs": [
    {
     "data": {
      "text/plain": [
       "(tensor([[  1.0000, -73.9939,  40.7404, -73.9811,  40.7452],\n",
       "         [  1.0000, -73.9975,  40.7417, -74.0117,  40.7078],\n",
       "         [  1.0000, -73.9758,  40.7916, -73.9590,  40.7811],\n",
       "         [  3.0000, -73.9726,  40.7942, -73.9869,  40.7767],\n",
       "         [  5.0000, -74.0049,  40.7375, -73.9994,  40.7226],\n",
       "         [  1.0000, -73.9825,  40.7685, -73.9686,  40.7647],\n",
       "         [  2.0000, -73.9584,  40.7643, -73.9566,  40.7671],\n",
       "         [  1.0000, -73.9780,  40.7865, -73.9697,  40.7602],\n",
       "         [  1.0000, -73.9707,  40.7885, -73.9814,  40.7618],\n",
       "         [  1.0000, -73.9786,  40.7410, -73.9916,  40.7392],\n",
       "         [  1.0000, -73.7786,  40.6467, -73.9572,  40.7676],\n",
       "         [  2.0000, -73.9700,  40.7892, -73.9644,  40.7548],\n",
       "         [  1.0000, -73.9863,  40.7458, -73.9772,  40.7436],\n",
       "         [  1.0000, -73.9558,  40.7643, -73.9670,  40.7600],\n",
       "         [  1.0000, -74.0075,  40.7429, -73.9946,  40.7504],\n",
       "         [  1.0000, -73.9650,  40.8001, -73.9466,  40.8061],\n",
       "         [  1.0000, -74.0061,  40.7399, -73.9690,  40.7581],\n",
       "         [  4.0000, -73.9970,  40.7315, -73.9906,  40.7454],\n",
       "         [  2.0000, -73.9719,  40.7633, -73.9957,  40.7691],\n",
       "         [  1.0000, -73.9643,  40.7586, -73.9937,  40.7214]]),\n",
       " tensor([ 383.,  679.,  850.,  503.,  776.,  454.,   40., 1144.,  726.,  424.,\n",
       "         4185., 1478.,  252.,  653.,  381.,  450., 1023.,  654., 1158.,  720.]))"
      ]
     },
     "execution_count": 60,
     "metadata": {},
     "output_type": "execute_result"
    }
   ],
   "source": [
    "data, labels"
   ]
  }
 ],
 "metadata": {
  "kernelspec": {
   "display_name": "pytorchf",
   "language": "python",
   "name": "myenv"
  },
  "language_info": {
   "codemirror_mode": {
    "name": "ipython",
    "version": 3
   },
   "file_extension": ".py",
   "mimetype": "text/x-python",
   "name": "python",
   "nbconvert_exporter": "python",
   "pygments_lexer": "ipython3",
   "version": "3.11.7"
  }
 },
 "nbformat": 4,
 "nbformat_minor": 2
}
