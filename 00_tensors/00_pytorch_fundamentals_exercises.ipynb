{
 "cells": [
  {
   "cell_type": "markdown",
   "metadata": {
    "id": "AzDBM_v4iMe7"
   },
   "source": [
    "# 00. PyTorch Fundamentals Exercises\n",
    "\n",
    "#### 1. Documentation reading \n",
    "\n",
    "A big part of deep learning (and learning to code in general) is getting familiar with the documentation of a certain framework you're using. We'll be using the PyTorch documentation a lot throughout the rest of this course. So I'd recommend spending 10-minutes reading the documentation on [`torch.Tensor`](https://pytorch.org/docs/stable/tensors.html#torch-tensor). (it's okay if you don't get some things for now, the focus is not yet full understanding, it's awareness)."
   ]
  },
  {
   "cell_type": "markdown",
   "metadata": {
    "id": "__iXqqz-ioUJ"
   },
   "source": [
    "#### 2. Create a random tensor with shape `(7, 7)`.\n"
   ]
  },
  {
   "cell_type": "code",
   "execution_count": null,
   "metadata": {},
   "outputs": [],
   "source": [
    "import torch"
   ]
  },
  {
   "cell_type": "code",
   "execution_count": null,
   "metadata": {
    "id": "6pUq9Dc8i2L7"
   },
   "outputs": [],
   "source": [
    "# Create random tensor\n",
    "# tensor =\n"
   ]
  },
  {
   "cell_type": "code",
   "execution_count": null,
   "metadata": {},
   "outputs": [],
   "source": [
    "# Checks\n",
    "assert torch.is_tensor(tensor)\n",
    "assert tensor.shape == (7, 7)"
   ]
  },
  {
   "cell_type": "markdown",
   "metadata": {
    "id": "9-XxvRLfiqkR"
   },
   "source": [
    "#### 3. Perform a matrix multiplication on the tensor from exercise 2 with another random tensor with shape `(1, 7)` (hint: you may have to transpose the second tensor)."
   ]
  },
  {
   "cell_type": "code",
   "execution_count": null,
   "metadata": {
    "id": "NcLqR0Sbi_vT"
   },
   "outputs": [],
   "source": [
    "# Create another random tensor\n",
    "\n",
    "# another_random_tensor=\n",
    "\n",
    "# Perform matrix multiplication\n",
    "# result_ex3 =\n"
   ]
  },
  {
   "cell_type": "code",
   "execution_count": null,
   "metadata": {},
   "outputs": [],
   "source": [
    "# Checks\n",
    "assert torch.is_tensor(another_random_tensor)\n",
    "assert result_ex3.shape == (7, 1), \"Are you using the transpose of the new Tensor?\""
   ]
  },
  {
   "cell_type": "markdown",
   "metadata": {
    "id": "eiutdKUFiryU"
   },
   "source": [
    "#### 4. Set the random seed to `0` and do 2 & 3 over again. In the end round the results to 4 decimal places."
   ]
  },
  {
   "cell_type": "code",
   "execution_count": null,
   "metadata": {
    "id": "D-lOWI_1jRMm"
   },
   "outputs": [],
   "source": [
    "# Set manual seed\n",
    "\n",
    "# Create two random tensors\n",
    "\n",
    "# Matrix multiply tensors\n",
    "\n",
    "# Round values to the 4th decimal place\n",
    "# result_ex4 =\n"
   ]
  },
  {
   "cell_type": "code",
   "execution_count": null,
   "metadata": {},
   "outputs": [],
   "source": [
    "# Checks\n",
    "assert torch.equal(result_ex4, torch.tensor(\n",
    "    [[1.8542],\n",
    "     [1.9611],\n",
    "     [2.2884],\n",
    "     [3.0481],\n",
    "     [1.7067],\n",
    "     [2.5290],\n",
    "     [1.7989]]\n",
    "))"
   ]
  },
  {
   "cell_type": "markdown",
   "metadata": {
    "id": "G7qfa5CSivwg"
   },
   "source": [
    "#### 5. Find the maximum and minimum values of the output of exercise 4."
   ]
  },
  {
   "cell_type": "code",
   "execution_count": null,
   "metadata": {
    "id": "Fu8_3mZpllOd"
   },
   "outputs": [],
   "source": [
    "# Find max\n",
    "# max_val =\n",
    "\n",
    "# Find min\n",
    "# min_val =\n"
   ]
  },
  {
   "cell_type": "code",
   "execution_count": null,
   "metadata": {},
   "outputs": [],
   "source": [
    "# Checks\n",
    "assert max_val == 3.0481\n",
    "assert min_val == 1.7067"
   ]
  },
  {
   "cell_type": "markdown",
   "metadata": {
    "id": "wrTj5FgNiw47"
   },
   "source": [
    "#### 6. Find the maximum and minimum index values of the output of exercise 4."
   ]
  },
  {
   "cell_type": "code",
   "execution_count": null,
   "metadata": {
    "id": "CCEKt4K2lsfQ"
   },
   "outputs": [],
   "source": [
    "# Find arg max\n",
    "# max_pos =\n",
    "\n",
    "\n",
    "# Find arg min\n",
    "# min_pos =\n"
   ]
  },
  {
   "cell_type": "code",
   "execution_count": null,
   "metadata": {},
   "outputs": [],
   "source": [
    "# Checks\n",
    "assert max_pos == 3\n",
    "assert min_pos == 4"
   ]
  },
  {
   "cell_type": "markdown",
   "metadata": {
    "id": "hmeybz4uixy7"
   },
   "source": [
    "\n",
    "#### 7. Make a random tensor with shape `(1, 1, 1, 10)` and then create a new tensor with all the `1` dimensions removed to be left with a tensor of shape `(10)`. Set the seed to `7` when you create it and print out the first tensor and it's shape as well as the second tensor and it's shape. Round both results to 4 decimal places."
   ]
  },
  {
   "cell_type": "code",
   "execution_count": null,
   "metadata": {
    "id": "TQ9zbRzVl1jV"
   },
   "outputs": [],
   "source": [
    "# Set seed\n",
    "torch.manual_seed(7)\n",
    "\n",
    "# Create random tensor\n",
    "# result_ex7_1 =\n",
    "\n",
    "# Remove single dimensions\n",
    "# result_ex7_2 =\n"
   ]
  },
  {
   "cell_type": "code",
   "execution_count": null,
   "metadata": {},
   "outputs": [],
   "source": [
    "# Checks\n",
    "assert torch.equal(result_ex7_1, torch.tensor([\n",
    "    [[[0.5349, 0.1988, 0.6592, 0.6569, 0.2328, 0.4251, 0.2071, 0.6297,\n",
    "           0.3653, 0.8513]]]]))\n",
    "assert torch.equal(result_ex7_2, torch.tensor([\n",
    "    0.5349, 0.1988, 0.6592, 0.6569, 0.2328, 0.4251, 0.2071, 0.6297,\n",
    "           0.3653, 0.8513]))"
   ]
  },
  {
   "cell_type": "markdown",
   "metadata": {},
   "source": [
    "Congratulations on finishing this first set of exercises! You should also get familiar with working with tensors in the GPU, so we recommend checking our [Google Colab exercises](https://colab.research.google.com/drive/1oIcfqmMOoI82ppOIOlfiaTG7pvdU_j2q?usp=sharing)."
   ]
  }
 ],
 "metadata": {
  "accelerator": "GPU",
  "colab": {
   "collapsed_sections": [],
   "name": "00_pytorch_fundamentals_exercises.ipynb",
   "provenance": []
  },
  "kernelspec": {
   "display_name": "Python 3 (ipykernel)",
   "language": "python",
   "name": "python3"
  },
  "language_info": {
   "codemirror_mode": {
    "name": "ipython",
    "version": 3
   },
   "file_extension": ".py",
   "mimetype": "text/x-python",
   "name": "python",
   "nbconvert_exporter": "python",
   "pygments_lexer": "ipython3",
   "version": "3.11.5"
  }
 },
 "nbformat": 4,
 "nbformat_minor": 4
}
