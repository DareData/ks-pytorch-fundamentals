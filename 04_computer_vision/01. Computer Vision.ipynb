{
 "cells": [
  {
   "cell_type": "code",
   "execution_count": 106,
   "id": "44570d50",
   "metadata": {
    "executionInfo": {
     "elapsed": 12138,
     "status": "ok",
     "timestamp": 1713699394024,
     "user": {
      "displayName": "Ivo Bernardo",
      "userId": "02901330986836344785"
     },
     "user_tz": -60
    },
    "id": "44570d50"
   },
   "outputs": [],
   "source": [
    "# Torchvision Data\n",
    "import torchvision\n",
    "from torchvision import datasets\n",
    "from torchvision.transforms import ToTensor, transforms\n",
    "\n",
    "# Other Python Libraries\n",
    "import matplotlib.pyplot as plt\n",
    "import numpy as np\n",
    "\n",
    "# torch related libraries\n",
    "import torch\n",
    "from torch import nn\n",
    "from torch.utils.data import DataLoader, ConcatDataset\n",
    "import torch.nn.functional as F\n",
    "\n",
    "# Use tqdm\n",
    "from tqdm import tqdm\n",
    "\n",
    "# Define accuracy function for torch training\n",
    "def accuracy_fn(y_true, y_pred):\n",
    "    correct = torch.eq(y_true, y_pred).sum().item()\n",
    "    acc = (correct / len(y_pred)) * 100\n",
    "    return acc\n",
    "\n",
    "# helper function to predict image class\n",
    "def show_predict_digit(model, dataset, index):\n",
    "    image_tensor = dataset.data[index].unsqueeze(0).unsqueeze(0).to(torch.float32)\n",
    "    plt.figure(figsize=(4, 4))\n",
    "    plt.imshow(image_tensor.squeeze(0).squeeze(0))\n",
    "    \n",
    "    with torch.no_grad():\n",
    "        output = model(image_tensor)\n",
    "    \n",
    "    return torch.argmax(output)\n"
   ]
  },
  {
   "cell_type": "markdown",
   "id": "81a1303f",
   "metadata": {
    "id": "81a1303f"
   },
   "source": [
    "In this notebook, we are going to train our first instance of a Computer Vision algorithm on the famous [MNIST Dataset](https://en.wikipedia.org/wiki/MNIST_database). This will be used as our first example on how to train a computer vision algorithm from scratch using *pytorch*."
   ]
  },
  {
   "cell_type": "markdown",
   "id": "e75124cb",
   "metadata": {
    "id": "e75124cb"
   },
   "source": [
    "We'll start by loading the dataset below with some transformations for standardization:"
   ]
  },
  {
   "cell_type": "code",
   "execution_count": 2,
   "id": "db56670d",
   "metadata": {
    "colab": {
     "base_uri": "https://localhost:8080/"
    },
    "executionInfo": {
     "elapsed": 2257,
     "status": "ok",
     "timestamp": 1713699400166,
     "user": {
      "displayName": "Ivo Bernardo",
      "userId": "02901330986836344785"
     },
     "user_tz": -60
    },
    "id": "db56670d",
    "outputId": "a58a0ef0-fd21-47b9-de5b-43b0f6bb2d82"
   },
   "outputs": [],
   "source": [
    "transform = transforms.Compose([\n",
    "    transforms.ToTensor(),\n",
    "    transforms.Normalize((0.5,), (0.5,))\n",
    "])\n",
    "\n",
    "# Load training and test datasets\n",
    "train_dataset = torchvision.datasets.MNIST(root='./data', train=True, download=True, transform=transform)\n",
    "test_dataset = torchvision.datasets.MNIST(root='./data', train=False, download=True, transform=transform)\n"
   ]
  },
  {
   "cell_type": "markdown",
   "id": "c2da6fee",
   "metadata": {
    "id": "c2da6fee"
   },
   "source": [
    "Training data contains around 60000 images that we can classify into some categories. But before we check the images, let's create our train and test *torch* loaders!"
   ]
  },
  {
   "cell_type": "markdown",
   "id": "a4e17b90",
   "metadata": {},
   "source": [
    "Example of the tensors we've generated:"
   ]
  },
  {
   "cell_type": "code",
   "execution_count": 3,
   "id": "e51cd8c7",
   "metadata": {
    "colab": {
     "base_uri": "https://localhost:8080/"
    },
    "executionInfo": {
     "elapsed": 4,
     "status": "ok",
     "timestamp": 1713699402206,
     "user": {
      "displayName": "Ivo Bernardo",
      "userId": "02901330986836344785"
     },
     "user_tz": -60
    },
    "id": "e51cd8c7",
    "outputId": "4520d2fd-cecd-471d-a0b0-1e34a966cd5d"
   },
   "outputs": [
    {
     "data": {
      "text/plain": [
       "tensor([[[-1.0000, -1.0000, -1.0000, -1.0000, -1.0000, -1.0000, -1.0000,\n",
       "          -1.0000, -1.0000, -1.0000, -1.0000, -1.0000, -1.0000, -1.0000,\n",
       "          -1.0000, -1.0000, -1.0000, -1.0000, -1.0000, -1.0000, -1.0000,\n",
       "          -1.0000, -1.0000, -1.0000, -1.0000, -1.0000, -1.0000, -1.0000],\n",
       "         [-1.0000, -1.0000, -1.0000, -1.0000, -1.0000, -1.0000, -1.0000,\n",
       "          -1.0000, -1.0000, -1.0000, -1.0000, -1.0000, -1.0000, -1.0000,\n",
       "          -1.0000, -1.0000, -1.0000, -1.0000, -1.0000, -1.0000, -1.0000,\n",
       "          -1.0000, -1.0000, -1.0000, -1.0000, -1.0000, -1.0000, -1.0000],\n",
       "         [-1.0000, -1.0000, -1.0000, -1.0000, -1.0000, -1.0000, -1.0000,\n",
       "          -1.0000, -1.0000, -1.0000, -1.0000, -1.0000, -1.0000, -1.0000,\n",
       "          -1.0000, -1.0000, -1.0000, -1.0000, -1.0000, -1.0000, -1.0000,\n",
       "          -1.0000, -1.0000, -1.0000, -1.0000, -1.0000, -1.0000, -1.0000],\n",
       "         [-1.0000, -1.0000, -1.0000, -1.0000, -1.0000, -1.0000, -1.0000,\n",
       "          -1.0000, -1.0000, -1.0000, -1.0000, -1.0000, -1.0000, -1.0000,\n",
       "          -1.0000, -1.0000, -1.0000, -1.0000, -1.0000, -1.0000, -1.0000,\n",
       "          -1.0000, -1.0000, -1.0000, -1.0000, -1.0000, -1.0000, -1.0000],\n",
       "         [-1.0000, -1.0000, -1.0000, -1.0000, -1.0000, -1.0000, -1.0000,\n",
       "          -1.0000, -1.0000, -1.0000, -1.0000, -1.0000, -1.0000, -1.0000,\n",
       "          -1.0000, -1.0000, -1.0000, -1.0000, -1.0000, -1.0000, -1.0000,\n",
       "          -1.0000, -1.0000, -1.0000, -1.0000, -1.0000, -1.0000, -1.0000],\n",
       "         [-1.0000, -1.0000, -1.0000, -1.0000, -1.0000, -1.0000, -1.0000,\n",
       "          -1.0000, -1.0000, -1.0000, -1.0000, -1.0000, -0.9765, -0.8588,\n",
       "          -0.8588, -0.8588, -0.0118,  0.0667,  0.3725, -0.7961,  0.3020,\n",
       "           1.0000,  0.9373, -0.0039, -1.0000, -1.0000, -1.0000, -1.0000],\n",
       "         [-1.0000, -1.0000, -1.0000, -1.0000, -1.0000, -1.0000, -1.0000,\n",
       "          -1.0000, -0.7647, -0.7176, -0.2627,  0.2078,  0.3333,  0.9843,\n",
       "           0.9843,  0.9843,  0.9843,  0.9843,  0.7647,  0.3490,  0.9843,\n",
       "           0.8980,  0.5294, -0.4980, -1.0000, -1.0000, -1.0000, -1.0000],\n",
       "         [-1.0000, -1.0000, -1.0000, -1.0000, -1.0000, -1.0000, -1.0000,\n",
       "          -0.6157,  0.8667,  0.9843,  0.9843,  0.9843,  0.9843,  0.9843,\n",
       "           0.9843,  0.9843,  0.9843,  0.9686, -0.2706, -0.3569, -0.3569,\n",
       "          -0.5608, -0.6941, -1.0000, -1.0000, -1.0000, -1.0000, -1.0000],\n",
       "         [-1.0000, -1.0000, -1.0000, -1.0000, -1.0000, -1.0000, -1.0000,\n",
       "          -0.8588,  0.7176,  0.9843,  0.9843,  0.9843,  0.9843,  0.9843,\n",
       "           0.5529,  0.4275,  0.9373,  0.8902, -1.0000, -1.0000, -1.0000,\n",
       "          -1.0000, -1.0000, -1.0000, -1.0000, -1.0000, -1.0000, -1.0000],\n",
       "         [-1.0000, -1.0000, -1.0000, -1.0000, -1.0000, -1.0000, -1.0000,\n",
       "          -1.0000, -0.3725,  0.2235, -0.1608,  0.9843,  0.9843,  0.6078,\n",
       "          -0.9137, -1.0000, -0.6627,  0.2078, -1.0000, -1.0000, -1.0000,\n",
       "          -1.0000, -1.0000, -1.0000, -1.0000, -1.0000, -1.0000, -1.0000],\n",
       "         [-1.0000, -1.0000, -1.0000, -1.0000, -1.0000, -1.0000, -1.0000,\n",
       "          -1.0000, -1.0000, -0.8902, -0.9922,  0.2078,  0.9843, -0.2941,\n",
       "          -1.0000, -1.0000, -1.0000, -1.0000, -1.0000, -1.0000, -1.0000,\n",
       "          -1.0000, -1.0000, -1.0000, -1.0000, -1.0000, -1.0000, -1.0000],\n",
       "         [-1.0000, -1.0000, -1.0000, -1.0000, -1.0000, -1.0000, -1.0000,\n",
       "          -1.0000, -1.0000, -1.0000, -1.0000,  0.0902,  0.9843,  0.4902,\n",
       "          -0.9843, -1.0000, -1.0000, -1.0000, -1.0000, -1.0000, -1.0000,\n",
       "          -1.0000, -1.0000, -1.0000, -1.0000, -1.0000, -1.0000, -1.0000],\n",
       "         [-1.0000, -1.0000, -1.0000, -1.0000, -1.0000, -1.0000, -1.0000,\n",
       "          -1.0000, -1.0000, -1.0000, -1.0000, -0.9137,  0.4902,  0.9843,\n",
       "          -0.4510, -1.0000, -1.0000, -1.0000, -1.0000, -1.0000, -1.0000,\n",
       "          -1.0000, -1.0000, -1.0000, -1.0000, -1.0000, -1.0000, -1.0000],\n",
       "         [-1.0000, -1.0000, -1.0000, -1.0000, -1.0000, -1.0000, -1.0000,\n",
       "          -1.0000, -1.0000, -1.0000, -1.0000, -1.0000, -0.7255,  0.8902,\n",
       "           0.7647,  0.2549, -0.1529, -0.9922, -1.0000, -1.0000, -1.0000,\n",
       "          -1.0000, -1.0000, -1.0000, -1.0000, -1.0000, -1.0000, -1.0000],\n",
       "         [-1.0000, -1.0000, -1.0000, -1.0000, -1.0000, -1.0000, -1.0000,\n",
       "          -1.0000, -1.0000, -1.0000, -1.0000, -1.0000, -1.0000, -0.3647,\n",
       "           0.8824,  0.9843,  0.9843, -0.0667, -0.8039, -1.0000, -1.0000,\n",
       "          -1.0000, -1.0000, -1.0000, -1.0000, -1.0000, -1.0000, -1.0000],\n",
       "         [-1.0000, -1.0000, -1.0000, -1.0000, -1.0000, -1.0000, -1.0000,\n",
       "          -1.0000, -1.0000, -1.0000, -1.0000, -1.0000, -1.0000, -1.0000,\n",
       "          -0.6471,  0.4588,  0.9843,  0.9843,  0.1765, -0.7882, -1.0000,\n",
       "          -1.0000, -1.0000, -1.0000, -1.0000, -1.0000, -1.0000, -1.0000],\n",
       "         [-1.0000, -1.0000, -1.0000, -1.0000, -1.0000, -1.0000, -1.0000,\n",
       "          -1.0000, -1.0000, -1.0000, -1.0000, -1.0000, -1.0000, -1.0000,\n",
       "          -1.0000, -0.8745, -0.2706,  0.9765,  0.9843,  0.4667, -1.0000,\n",
       "          -1.0000, -1.0000, -1.0000, -1.0000, -1.0000, -1.0000, -1.0000],\n",
       "         [-1.0000, -1.0000, -1.0000, -1.0000, -1.0000, -1.0000, -1.0000,\n",
       "          -1.0000, -1.0000, -1.0000, -1.0000, -1.0000, -1.0000, -1.0000,\n",
       "          -1.0000, -1.0000, -1.0000,  0.9529,  0.9843,  0.9529, -0.4980,\n",
       "          -1.0000, -1.0000, -1.0000, -1.0000, -1.0000, -1.0000, -1.0000],\n",
       "         [-1.0000, -1.0000, -1.0000, -1.0000, -1.0000, -1.0000, -1.0000,\n",
       "          -1.0000, -1.0000, -1.0000, -1.0000, -1.0000, -1.0000, -1.0000,\n",
       "          -0.6392,  0.0196,  0.4353,  0.9843,  0.9843,  0.6235, -0.9843,\n",
       "          -1.0000, -1.0000, -1.0000, -1.0000, -1.0000, -1.0000, -1.0000],\n",
       "         [-1.0000, -1.0000, -1.0000, -1.0000, -1.0000, -1.0000, -1.0000,\n",
       "          -1.0000, -1.0000, -1.0000, -1.0000, -1.0000, -0.6941,  0.1608,\n",
       "           0.7961,  0.9843,  0.9843,  0.9843,  0.9608,  0.4275, -1.0000,\n",
       "          -1.0000, -1.0000, -1.0000, -1.0000, -1.0000, -1.0000, -1.0000],\n",
       "         [-1.0000, -1.0000, -1.0000, -1.0000, -1.0000, -1.0000, -1.0000,\n",
       "          -1.0000, -1.0000, -1.0000, -0.8118, -0.1059,  0.7333,  0.9843,\n",
       "           0.9843,  0.9843,  0.9843,  0.5765, -0.3882, -1.0000, -1.0000,\n",
       "          -1.0000, -1.0000, -1.0000, -1.0000, -1.0000, -1.0000, -1.0000],\n",
       "         [-1.0000, -1.0000, -1.0000, -1.0000, -1.0000, -1.0000, -1.0000,\n",
       "          -1.0000, -0.8196, -0.4824,  0.6706,  0.9843,  0.9843,  0.9843,\n",
       "           0.9843,  0.5529, -0.3647, -0.9843, -1.0000, -1.0000, -1.0000,\n",
       "          -1.0000, -1.0000, -1.0000, -1.0000, -1.0000, -1.0000, -1.0000],\n",
       "         [-1.0000, -1.0000, -1.0000, -1.0000, -1.0000, -1.0000, -0.8588,\n",
       "           0.3412,  0.7176,  0.9843,  0.9843,  0.9843,  0.9843,  0.5294,\n",
       "          -0.3725, -0.9294, -1.0000, -1.0000, -1.0000, -1.0000, -1.0000,\n",
       "          -1.0000, -1.0000, -1.0000, -1.0000, -1.0000, -1.0000, -1.0000],\n",
       "         [-1.0000, -1.0000, -1.0000, -1.0000, -0.5686,  0.3490,  0.7725,\n",
       "           0.9843,  0.9843,  0.9843,  0.9843,  0.9137,  0.0431, -0.9137,\n",
       "          -1.0000, -1.0000, -1.0000, -1.0000, -1.0000, -1.0000, -1.0000,\n",
       "          -1.0000, -1.0000, -1.0000, -1.0000, -1.0000, -1.0000, -1.0000],\n",
       "         [-1.0000, -1.0000, -1.0000, -1.0000,  0.0667,  0.9843,  0.9843,\n",
       "           0.9843,  0.6627,  0.0588,  0.0353, -0.8745, -1.0000, -1.0000,\n",
       "          -1.0000, -1.0000, -1.0000, -1.0000, -1.0000, -1.0000, -1.0000,\n",
       "          -1.0000, -1.0000, -1.0000, -1.0000, -1.0000, -1.0000, -1.0000],\n",
       "         [-1.0000, -1.0000, -1.0000, -1.0000, -1.0000, -1.0000, -1.0000,\n",
       "          -1.0000, -1.0000, -1.0000, -1.0000, -1.0000, -1.0000, -1.0000,\n",
       "          -1.0000, -1.0000, -1.0000, -1.0000, -1.0000, -1.0000, -1.0000,\n",
       "          -1.0000, -1.0000, -1.0000, -1.0000, -1.0000, -1.0000, -1.0000],\n",
       "         [-1.0000, -1.0000, -1.0000, -1.0000, -1.0000, -1.0000, -1.0000,\n",
       "          -1.0000, -1.0000, -1.0000, -1.0000, -1.0000, -1.0000, -1.0000,\n",
       "          -1.0000, -1.0000, -1.0000, -1.0000, -1.0000, -1.0000, -1.0000,\n",
       "          -1.0000, -1.0000, -1.0000, -1.0000, -1.0000, -1.0000, -1.0000],\n",
       "         [-1.0000, -1.0000, -1.0000, -1.0000, -1.0000, -1.0000, -1.0000,\n",
       "          -1.0000, -1.0000, -1.0000, -1.0000, -1.0000, -1.0000, -1.0000,\n",
       "          -1.0000, -1.0000, -1.0000, -1.0000, -1.0000, -1.0000, -1.0000,\n",
       "          -1.0000, -1.0000, -1.0000, -1.0000, -1.0000, -1.0000, -1.0000]]])"
      ]
     },
     "execution_count": 3,
     "metadata": {},
     "output_type": "execute_result"
    }
   ],
   "source": [
    "image, label = train_dataset[0]\n",
    "image"
   ]
  },
  {
   "cell_type": "markdown",
   "id": "af05debb",
   "metadata": {
    "id": "af05debb"
   },
   "source": [
    "What's the shape of our tensor?"
   ]
  },
  {
   "cell_type": "code",
   "execution_count": 4,
   "id": "4464043e",
   "metadata": {
    "colab": {
     "base_uri": "https://localhost:8080/"
    },
    "executionInfo": {
     "elapsed": 4,
     "status": "ok",
     "timestamp": 1713699403679,
     "user": {
      "displayName": "Ivo Bernardo",
      "userId": "02901330986836344785"
     },
     "user_tz": -60
    },
    "id": "4464043e",
    "outputId": "ba676280-7f3e-4aeb-fdd2-ff983c1379b8",
    "scrolled": true
   },
   "outputs": [
    {
     "data": {
      "text/plain": [
       "torch.Size([1, 28, 28])"
      ]
     },
     "execution_count": 4,
     "metadata": {},
     "output_type": "execute_result"
    }
   ],
   "source": [
    "image.shape"
   ]
  },
  {
   "cell_type": "markdown",
   "id": "837a764a",
   "metadata": {},
   "source": [
    "Let's check some examples of our data:"
   ]
  },
  {
   "cell_type": "code",
   "execution_count": 5,
   "id": "cb7f1971",
   "metadata": {
    "colab": {
     "base_uri": "https://localhost:8080/",
     "height": 177
    },
    "executionInfo": {
     "elapsed": 294,
     "status": "ok",
     "timestamp": 1713699404688,
     "user": {
      "displayName": "Ivo Bernardo",
      "userId": "02901330986836344785"
     },
     "user_tz": -60
    },
    "id": "cb7f1971",
    "outputId": "0f5902fb-3d52-4434-c1ec-8a8c56fd52cd"
   },
   "outputs": [
    {
     "data": {
      "image/png": "[encoded data removed]",
      "text/plain": [
       "<Figure size 400x400 with 1 Axes>"
      ]
     },
     "metadata": {},
     "output_type": "display_data"
    }
   ],
   "source": [
    "image, label = train_dataset[0]\n",
    "image = np.transpose(image, (1, 2, 0))\n",
    "\n",
    "plt.figure(figsize=(4, 4))\n",
    "plt.imshow(image)\n",
    "plt.title(label);"
   ]
  },
  {
   "cell_type": "markdown",
   "id": "cd528cb0",
   "metadata": {
    "id": "cd528cb0"
   },
   "source": [
    "The number 5!"
   ]
  },
  {
   "cell_type": "markdown",
   "id": "d5e356d6",
   "metadata": {},
   "source": [
    "Another example:"
   ]
  },
  {
   "cell_type": "code",
   "execution_count": 38,
   "id": "35c9190d",
   "metadata": {
    "colab": {
     "base_uri": "https://localhost:8080/",
     "height": 177
    },
    "executionInfo": {
     "elapsed": 6,
     "status": "ok",
     "timestamp": 1713699406330,
     "user": {
      "displayName": "Ivo Bernardo",
      "userId": "02901330986836344785"
     },
     "user_tz": -60
    },
    "id": "35c9190d",
    "outputId": "beffb72b-4810-4a93-96c4-c6bee6ad1025"
   },
   "outputs": [
    {
     "name": "stdout",
     "output_type": "stream",
     "text": [
      "torch.Size([1, 28, 28])\n"
     ]
    },
    {
     "data": {
      "image/png": "[encoded data removed]",
      "text/plain": [
       "<Figure size 400x400 with 1 Axes>"
      ]
     },
     "metadata": {},
     "output_type": "display_data"
    }
   ],
   "source": [
    "image, label = train_dataset[120]\n",
    "image = np.transpose(image, (1, 2, 0))\n",
    "\n",
    "plt.figure(figsize=(4, 4))\n",
    "plt.imshow(image)\n",
    "plt.title(label);"
   ]
  },
  {
   "cell_type": "markdown",
   "id": "2bc4b19b",
   "metadata": {
    "id": "2bc4b19b"
   },
   "source": [
    "Number 2!"
   ]
  },
  {
   "cell_type": "markdown",
   "id": "dcec986c",
   "metadata": {
    "id": "dcec986c"
   },
   "source": [
    "I think you get the hand of it - our goal is to use a `torch` model to classify our images - we'll start by defining our data in batches as we've said. We'll use the batches of 3 we've set using `torch loaders`. We'll use a batch size of 30:"
   ]
  },
  {
   "cell_type": "code",
   "execution_count": 7,
   "id": "1fc909a9",
   "metadata": {
    "executionInfo": {
     "elapsed": 4,
     "status": "ok",
     "timestamp": 1713699401031,
     "user": {
      "displayName": "Ivo Bernardo",
      "userId": "02901330986836344785"
     },
     "user_tz": -60
    },
    "id": "9ba3d3ff"
   },
   "outputs": [],
   "source": [
    "train_loader = torch.utils.data.DataLoader(train_dataset, batch_size=30, shuffle=True)\n",
    "test_loader = torch.utils.data.DataLoader(test_dataset, batch_size=30)"
   ]
  },
  {
   "cell_type": "code",
   "execution_count": 8,
   "id": "8a4cb611",
   "metadata": {
    "colab": {
     "base_uri": "https://localhost:8080/"
    },
    "executionInfo": {
     "elapsed": 4,
     "status": "ok",
     "timestamp": 1713699407540,
     "user": {
      "displayName": "Ivo Bernardo",
      "userId": "02901330986836344785"
     },
     "user_tz": -60
    },
    "id": "8a4cb611",
    "outputId": "ee8c0e61-43f6-4639-cc4a-c35d03ab5e54"
   },
   "outputs": [
    {
     "name": "stdout",
     "output_type": "stream",
     "text": [
      "Dataloaders: (<torch.utils.data.dataloader.DataLoader object at 0x0000023F31159110>, <torch.utils.data.dataloader.DataLoader object at 0x0000023F311EA910>)\n",
      "Length of train dataloader: 2000 batches of 30\n",
      "Length of test dataloader: 334 batches of 30\n"
     ]
    }
   ],
   "source": [
    "print(f\"Dataloaders: {train_loader, test_loader}\")\n",
    "print(f\"Length of train dataloader: {len(train_loader)} batches of {train_loader.batch_size}\")\n",
    "print(f\"Length of test dataloader: {len(test_loader)} batches of {train_loader.batch_size}\")"
   ]
  },
  {
   "cell_type": "code",
   "execution_count": 9,
   "id": "9a2ae7b3",
   "metadata": {
    "colab": {
     "base_uri": "https://localhost:8080/"
    },
    "executionInfo": {
     "elapsed": 4,
     "status": "ok",
     "timestamp": 1713699408530,
     "user": {
      "displayName": "Ivo Bernardo",
      "userId": "02901330986836344785"
     },
     "user_tz": -60
    },
    "id": "9a2ae7b3",
    "outputId": "a63da2ff-0deb-44f1-9c51-db07c54c72e1"
   },
   "outputs": [
    {
     "data": {
      "text/plain": [
       "torch.Size([30, 1, 28, 28])"
      ]
     },
     "execution_count": 9,
     "metadata": {},
     "output_type": "execute_result"
    }
   ],
   "source": [
    "train_features_batch, train_labels_batch = next(iter(train_loader))\n",
    "train_features_batch.shape"
   ]
  },
  {
   "cell_type": "markdown",
   "id": "e9bf2ca9",
   "metadata": {},
   "source": [
    "An example of the labels we want to classify in our batch:"
   ]
  },
  {
   "cell_type": "code",
   "execution_count": 10,
   "id": "62f9bdbf",
   "metadata": {
    "colab": {
     "base_uri": "https://localhost:8080/"
    },
    "executionInfo": {
     "elapsed": 3,
     "status": "ok",
     "timestamp": 1713699408778,
     "user": {
      "displayName": "Ivo Bernardo",
      "userId": "02901330986836344785"
     },
     "user_tz": -60
    },
    "id": "62f9bdbf",
    "outputId": "ec87fcaf-9f97-47d4-c8aa-808403c5ab83"
   },
   "outputs": [
    {
     "data": {
      "text/plain": [
       "tensor([4, 4, 7, 6, 0, 7, 1, 3, 2, 2, 8, 1, 2, 9, 7, 3, 0, 6, 5, 4, 4, 6, 1, 0,\n",
       "        4, 6, 4, 4, 2, 5])"
      ]
     },
     "execution_count": 10,
     "metadata": {},
     "output_type": "execute_result"
    }
   ],
   "source": [
    "train_labels_batch"
   ]
  },
  {
   "cell_type": "markdown",
   "id": "0cc02f70",
   "metadata": {},
   "source": [
    "Our class names are the following:"
   ]
  },
  {
   "cell_type": "code",
   "execution_count": 11,
   "id": "31f9baff",
   "metadata": {
    "scrolled": true
   },
   "outputs": [
    {
     "data": {
      "text/plain": [
       "['0 - zero',\n",
       " '1 - one',\n",
       " '2 - two',\n",
       " '3 - three',\n",
       " '4 - four',\n",
       " '5 - five',\n",
       " '6 - six',\n",
       " '7 - seven',\n",
       " '8 - eight',\n",
       " '9 - nine']"
      ]
     },
     "execution_count": 11,
     "metadata": {},
     "output_type": "execute_result"
    }
   ],
   "source": [
    "class_names = train_dataset.classes\n",
    "class_names"
   ]
  },
  {
   "cell_type": "markdown",
   "id": "eeb5e8e8",
   "metadata": {},
   "source": [
    "### Training a Feed Forward Model"
   ]
  },
  {
   "cell_type": "markdown",
   "id": "b8ac3c90",
   "metadata": {
    "id": "b8ac3c90"
   },
   "source": [
    "According to our last lectures, we've seen how to create models using non-linearities. Let's try to do that first:"
   ]
  },
  {
   "cell_type": "code",
   "execution_count": 12,
   "id": "e1d078b4",
   "metadata": {
    "executionInfo": {
     "elapsed": 3,
     "status": "ok",
     "timestamp": 1713699410668,
     "user": {
      "displayName": "Ivo Bernardo",
      "userId": "02901330986836344785"
     },
     "user_tz": -60
    },
    "id": "e1d078b4"
   },
   "outputs": [],
   "source": [
    "class MNIST_NN(nn.Module):\n",
    "    def __init__(self, input_shape: int, \n",
    "                 hidden_units: int, \n",
    "                 output_shape: int):\n",
    "        super().__init__()\n",
    "        \n",
    "        # Create a hidden layer with non-linearities\n",
    "        self.layer_stack = nn.Sequential(\n",
    "            nn.Flatten(),\n",
    "            nn.Linear(in_features=input_shape, out_features=hidden_units),\n",
    "            nn.ReLU(),\n",
    "            nn.Linear(in_features=hidden_units, out_features=output_shape),\n",
    "            nn.ReLU()\n",
    "        )\n",
    "\n",
    "    def forward(self, x: torch.Tensor):\n",
    "        return self.layer_stack(x)"
   ]
  },
  {
   "cell_type": "markdown",
   "id": "e66dcf59",
   "metadata": {},
   "source": [
    "Let's instantiate our model:"
   ]
  },
  {
   "cell_type": "code",
   "execution_count": 13,
   "id": "dd786ed0",
   "metadata": {
    "executionInfo": {
     "elapsed": 252,
     "status": "ok",
     "timestamp": 1713699814613,
     "user": {
      "displayName": "Ivo Bernardo",
      "userId": "02901330986836344785"
     },
     "user_tz": -60
    },
    "id": "dd786ed0"
   },
   "outputs": [],
   "source": [
    "model_non_linear = MNIST_NN(input_shape=28*28,\n",
    "    hidden_units=150,\n",
    "    output_shape=len(class_names))\n",
    "\n",
    "# Loss and optimizer are defined next\n",
    "loss_function = nn.CrossEntropyLoss()\n",
    "optimizer = torch.optim.SGD(params=model_non_linear.parameters(),\n",
    "                            lr=0.01)"
   ]
  },
  {
   "cell_type": "markdown",
   "id": "7958a804",
   "metadata": {},
   "source": [
    "Finally, we can define training and test steps for our Neural Network:"
   ]
  },
  {
   "cell_type": "code",
   "execution_count": 14,
   "id": "2c0f9a2a",
   "metadata": {
    "executionInfo": {
     "elapsed": 3,
     "status": "ok",
     "timestamp": 1713699815542,
     "user": {
      "displayName": "Ivo Bernardo",
      "userId": "02901330986836344785"
     },
     "user_tz": -60
    },
    "id": "2c0f9a2a"
   },
   "outputs": [],
   "source": [
    "def train_step(model: torch.nn.Module,\n",
    "               data_loader: torch.utils.data.DataLoader,\n",
    "               loss_fn: torch.nn.Module,\n",
    "               optimizer: torch.optim.Optimizer,\n",
    "               accuracy_fn):\n",
    "    \n",
    "    # Zero loss and acc\n",
    "    train_loss, train_acc = 0, 0\n",
    "    \n",
    "    model.train()\n",
    "    \n",
    "    for batch, (X, y) in enumerate(data_loader):\n",
    "\n",
    "        y_pred = model(X)\n",
    "        loss = loss_fn(y_pred, y)\n",
    "        train_loss += loss.item()\n",
    "        train_acc += accuracy_fn(y_true=y,\n",
    "                                 y_pred=y_pred.argmax(dim=1))\n",
    "\n",
    "        optimizer.zero_grad()\n",
    "        loss.backward()\n",
    "        optimizer.step()\n",
    "\n",
    "    train_loss /= len(data_loader)\n",
    "    train_acc /= len(data_loader)\n",
    "    print(f\"Train loss: {train_loss:.2f} | Train accuracy: {train_acc:.2f}%\")\n",
    "\n",
    "    return train_loss\n",
    "\n",
    "def test_step(data_loader: torch.utils.data.DataLoader,\n",
    "              model: torch.nn.Module,\n",
    "              loss_fn: torch.nn.Module,\n",
    "              accuracy_fn):\n",
    "    test_loss, test_acc = 0, 0\n",
    "    model.eval() \n",
    "    \n",
    "    with torch.no_grad(): \n",
    "        for X, y in data_loader:\n",
    "            test_pred = model(X)\n",
    "            test_loss += loss_fn(test_pred, y).item() \n",
    "            test_acc += accuracy_fn(y_true=y,\n",
    "                                    y_pred=test_pred.argmax(dim=1))\n",
    "\n",
    "        test_loss /= len(data_loader)\n",
    "        test_acc /= len(data_loader)\n",
    "        print(f\"Test loss: {test_loss:.5f} | Test accuracy: {test_acc:.2f}%\\n\")\n",
    "\n",
    "        return test_loss\n"
   ]
  },
  {
   "cell_type": "markdown",
   "id": "91d4d0a5",
   "metadata": {},
   "source": [
    "Let's train our MNIST model for 10 epochs!"
   ]
  },
  {
   "cell_type": "code",
   "execution_count": 15,
   "id": "451db68a",
   "metadata": {
    "colab": {
     "base_uri": "https://localhost:8080/"
    },
    "executionInfo": {
     "elapsed": 175076,
     "status": "ok",
     "timestamp": 1713699990914,
     "user": {
      "displayName": "Ivo Bernardo",
      "userId": "02901330986836344785"
     },
     "user_tz": -60
    },
    "id": "451db68a",
    "outputId": "b0da5a37-2144-4bc6-d56d-675feb9a996a",
    "scrolled": false
   },
   "outputs": [
    {
     "name": "stderr",
     "output_type": "stream",
     "text": [
      "\r",
      "  0%|                                                                                           | 0/10 [00:00<?, ?it/s]"
     ]
    },
    {
     "name": "stdout",
     "output_type": "stream",
     "text": [
      "Epoch: 0\n",
      "---------\n",
      "Train loss: 1.00 | Train accuracy: 68.55%\n"
     ]
    },
    {
     "name": "stderr",
     "output_type": "stream",
     "text": [
      "\r",
      " 10%|████████▎                                                                          | 1/10 [00:15<02:15, 15.04s/it]"
     ]
    },
    {
     "name": "stdout",
     "output_type": "stream",
     "text": [
      "Test loss: 0.76031 | Test accuracy: 73.91%\n",
      "\n",
      "Epoch: 1\n",
      "---------\n",
      "Train loss: 0.75 | Train accuracy: 73.72%\n"
     ]
    },
    {
     "name": "stderr",
     "output_type": "stream",
     "text": [
      "\r",
      " 20%|████████████████▌                                                                  | 2/10 [00:30<02:04, 15.50s/it]"
     ]
    },
    {
     "name": "stdout",
     "output_type": "stream",
     "text": [
      "Test loss: 0.71039 | Test accuracy: 74.90%\n",
      "\n",
      "Epoch: 2\n",
      "---------\n",
      "Train loss: 0.71 | Train accuracy: 74.67%\n"
     ]
    },
    {
     "name": "stderr",
     "output_type": "stream",
     "text": [
      "\r",
      " 30%|████████████████████████▉                                                          | 3/10 [00:50<02:01, 17.34s/it]"
     ]
    },
    {
     "name": "stdout",
     "output_type": "stream",
     "text": [
      "Test loss: 0.68952 | Test accuracy: 75.32%\n",
      "\n",
      "Epoch: 3\n",
      "---------\n",
      "Train loss: 0.68 | Train accuracy: 75.42%\n"
     ]
    },
    {
     "name": "stderr",
     "output_type": "stream",
     "text": [
      "\r",
      " 40%|█████████████████████████████████▏                                                 | 4/10 [01:09<01:48, 18.05s/it]"
     ]
    },
    {
     "name": "stdout",
     "output_type": "stream",
     "text": [
      "Test loss: 0.66074 | Test accuracy: 76.13%\n",
      "\n",
      "Epoch: 4\n",
      "---------\n",
      "Train loss: 0.66 | Train accuracy: 76.04%\n"
     ]
    },
    {
     "name": "stderr",
     "output_type": "stream",
     "text": [
      "\r",
      " 50%|█████████████████████████████████████████▌                                         | 5/10 [01:27<01:29, 17.90s/it]"
     ]
    },
    {
     "name": "stdout",
     "output_type": "stream",
     "text": [
      "Test loss: 0.63752 | Test accuracy: 76.45%\n",
      "\n",
      "Epoch: 5\n",
      "---------\n",
      "Train loss: 0.64 | Train accuracy: 76.53%\n"
     ]
    },
    {
     "name": "stderr",
     "output_type": "stream",
     "text": [
      "\r",
      " 60%|█████████████████████████████████████████████████▊                                 | 6/10 [01:44<01:10, 17.75s/it]"
     ]
    },
    {
     "name": "stdout",
     "output_type": "stream",
     "text": [
      "Test loss: 0.62235 | Test accuracy: 76.97%\n",
      "\n",
      "Epoch: 6\n",
      "---------\n",
      "Train loss: 0.62 | Train accuracy: 76.92%\n"
     ]
    },
    {
     "name": "stderr",
     "output_type": "stream",
     "text": [
      "\r",
      " 70%|██████████████████████████████████████████████████████████                         | 7/10 [02:03<00:54, 18.03s/it]"
     ]
    },
    {
     "name": "stdout",
     "output_type": "stream",
     "text": [
      "Test loss: 0.61299 | Test accuracy: 77.03%\n",
      "\n",
      "Epoch: 7\n",
      "---------\n",
      "Train loss: 0.61 | Train accuracy: 77.21%\n"
     ]
    },
    {
     "name": "stderr",
     "output_type": "stream",
     "text": [
      "\r",
      " 80%|██████████████████████████████████████████████████████████████████▍                | 8/10 [02:20<00:35, 17.89s/it]"
     ]
    },
    {
     "name": "stdout",
     "output_type": "stream",
     "text": [
      "Test loss: 0.59648 | Test accuracy: 77.41%\n",
      "\n",
      "Epoch: 8\n",
      "---------\n",
      "Train loss: 0.45 | Train accuracy: 84.05%\n"
     ]
    },
    {
     "name": "stderr",
     "output_type": "stream",
     "text": [
      "\r",
      " 90%|██████████████████████████████████████████████████████████████████████████▋        | 9/10 [02:39<00:18, 18.19s/it]"
     ]
    },
    {
     "name": "stdout",
     "output_type": "stream",
     "text": [
      "Test loss: 0.38133 | Test accuracy: 86.55%\n",
      "\n",
      "Epoch: 9\n",
      "---------\n",
      "Train loss: 0.37 | Train accuracy: 86.99%\n"
     ]
    },
    {
     "name": "stderr",
     "output_type": "stream",
     "text": [
      "100%|██████████████████████████████████████████████████████████████████████████████████| 10/10 [02:59<00:00, 17.90s/it]"
     ]
    },
    {
     "name": "stdout",
     "output_type": "stream",
     "text": [
      "Test loss: 0.36962 | Test accuracy: 86.81%\n",
      "\n"
     ]
    },
    {
     "name": "stderr",
     "output_type": "stream",
     "text": [
      "\n"
     ]
    }
   ],
   "source": [
    "loss_hist = {}\n",
    "\n",
    "# Setup train and test loss history\n",
    "loss_hist['train'] = {}\n",
    "loss_hist['test'] = {}\n",
    "\n",
    "epochs = 10\n",
    "for epoch in tqdm(range(epochs)):\n",
    "    print(f\"Epoch: {epoch}\\n---------\")\n",
    "    train_loss = train_step(data_loader=train_loader,\n",
    "        model=model_non_linear,\n",
    "        loss_fn=loss_function,\n",
    "        optimizer=optimizer,\n",
    "        accuracy_fn=accuracy_fn\n",
    "    )\n",
    "\n",
    "    loss_hist['train'][epoch] = train_loss\n",
    "\n",
    "    test_loss = test_step(data_loader=test_loader,\n",
    "        model=model_non_linear,\n",
    "        loss_fn=loss_function,\n",
    "        accuracy_fn=accuracy_fn\n",
    "    )\n",
    "\n",
    "    loss_hist['test'][epoch] = test_loss"
   ]
  },
  {
   "cell_type": "markdown",
   "id": "be051e8f",
   "metadata": {},
   "source": [
    "Model converged in an interesting way:"
   ]
  },
  {
   "cell_type": "code",
   "execution_count": 17,
   "id": "b44cfdeb",
   "metadata": {
    "colab": {
     "base_uri": "https://localhost:8080/",
     "height": 447
    },
    "executionInfo": {
     "elapsed": 314,
     "status": "ok",
     "timestamp": 1713700018915,
     "user": {
      "displayName": "Ivo Bernardo",
      "userId": "02901330986836344785"
     },
     "user_tz": -60
    },
    "id": "b44cfdeb",
    "outputId": "4267edb9-2e35-4c3e-9552-1557e2850c04",
    "scrolled": false
   },
   "outputs": [
    {
     "data": {
      "image/png": "[encoded data removed]",
      "text/plain": [
       "<Figure size 640x480 with 1 Axes>"
      ]
     },
     "metadata": {},
     "output_type": "display_data"
    }
   ],
   "source": [
    "train_loss_hist = [loss_hist['train'][val] for val in loss_hist['train']]\n",
    "test_loss_hist = [loss_hist['test'][val] for val in loss_hist['test']]\n",
    "\n",
    "plt.plot(np.arange(1,11), train_loss_hist)\n",
    "plt.plot(np.arange(1,11), test_loss_hist)\n",
    "\n",
    "plt.title('Train and Test Loss - Non-Linear NN on MNIST Data')\n",
    "plt.legend(['train loss','test loss'])\n",
    "plt.xlabel('Epoch Number')\n",
    "plt.show()"
   ]
  },
  {
   "cell_type": "markdown",
   "id": "b9d55c7e",
   "metadata": {},
   "source": [
    "Let's see how our neural network is classifying our digits on the test set:"
   ]
  },
  {
   "cell_type": "code",
   "execution_count": 107,
   "id": "d64fe75c",
   "metadata": {},
   "outputs": [
    {
     "data": {
      "text/plain": [
       "tensor(7)"
      ]
     },
     "execution_count": 107,
     "metadata": {},
     "output_type": "execute_result"
    },
    {
     "data": {
      "image/png": "[encoded data removed]",
      "text/plain": [
       "<Figure size 400x400 with 1 Axes>"
      ]
     },
     "metadata": {},
     "output_type": "display_data"
    }
   ],
   "source": [
    "show_predict_digit(model_non_linear,\n",
    "                  test_dataset,\n",
    "                  0)"
   ]
  },
  {
   "cell_type": "code",
   "execution_count": 108,
   "id": "f2140dad",
   "metadata": {},
   "outputs": [
    {
     "data": {
      "text/plain": [
       "tensor(0)"
      ]
     },
     "execution_count": 108,
     "metadata": {},
     "output_type": "execute_result"
    },
    {
     "data": {
      "image/png": "[encoded data removed]",
      "text/plain": [
       "<Figure size 400x400 with 1 Axes>"
      ]
     },
     "metadata": {},
     "output_type": "display_data"
    }
   ],
   "source": [
    "show_predict_digit(model_non_linear,\n",
    "                  test_dataset,\n",
    "                  7)"
   ]
  },
  {
   "cell_type": "markdown",
   "id": "ea438ab6",
   "metadata": {
    "id": "ea438ab6"
   },
   "source": [
    "Let's now try to fit a Convolutional Neural Network using `PyTorch`:"
   ]
  },
  {
   "cell_type": "code",
   "execution_count": 88,
   "id": "e6715612",
   "metadata": {
    "colab": {
     "base_uri": "https://localhost:8080/",
     "height": 211
    },
    "executionInfo": {
     "elapsed": 311,
     "status": "error",
     "timestamp": 1713701968424,
     "user": {
      "displayName": "Ivo Bernardo",
      "userId": "02901330986836344785"
     },
     "user_tz": -60
    },
    "id": "e6715612",
    "outputId": "a13dd8a0-255b-40d4-e39e-92ccc6982397"
   },
   "outputs": [],
   "source": [
    "class SimpleCNN(nn.Module):\n",
    "    def __init__(self):\n",
    "        super(SimpleCNN, self).__init__()\n",
    "        self.conv1 = nn.Conv2d(in_channels=1, out_channels=32, \n",
    "                               kernel_size=3, padding=1)\n",
    "        self.conv2 = nn.Conv2d(32, 64, kernel_size=3, padding=1)\n",
    "        self.pool = nn.MaxPool2d(kernel_size=2, stride=2)\n",
    "        self.fc1 = nn.Linear(64 * 7 * 7, 128)\n",
    "        self.fc2 = nn.Linear(128, 10)\n",
    "        self.dropout = nn.Dropout(0.5) \n",
    "        self.batch_norm1 = nn.BatchNorm2d(32)\n",
    "        self.batch_norm2 = nn.BatchNorm2d(64)\n",
    "\n",
    "    def forward(self, x):\n",
    "        x = self.pool(F.relu(self.batch_norm1(self.conv1(x))))\n",
    "        x = self.pool(F.relu(self.batch_norm2(self.conv2(x))))\n",
    "        x = torch.flatten(x, 1)\n",
    "        x = F.relu(self.fc1(x))\n",
    "        x = self.dropout(x)\n",
    "        x = self.fc2(x)\n",
    "        return x\n",
    "\n",
    "net = SimpleCNN()"
   ]
  },
  {
   "cell_type": "markdown",
   "id": "4085f496",
   "metadata": {},
   "source": [
    "Pay attention to the learning rate when creating a CNN! Vanishing or Exploding gradients may enter into play and make your network not converge."
   ]
  },
  {
   "cell_type": "code",
   "execution_count": 89,
   "id": "76bb775a",
   "metadata": {
    "colab": {
     "base_uri": "https://localhost:8080/",
     "height": 159
    },
    "executionInfo": {
     "elapsed": 315,
     "status": "error",
     "timestamp": 1713701895928,
     "user": {
      "displayName": "Ivo Bernardo",
      "userId": "02901330986836344785"
     },
     "user_tz": -60
    },
    "id": "76bb775a",
    "outputId": "67c807cc-ec16-40fe-d2cd-0ace21c5034e"
   },
   "outputs": [],
   "source": [
    "optimizer = torch.optim.SGD(params=net.parameters(),\n",
    "                            lr=0.05)"
   ]
  },
  {
   "cell_type": "markdown",
   "id": "a7eea6ca",
   "metadata": {},
   "source": [
    "And training our CNN:"
   ]
  },
  {
   "cell_type": "code",
   "execution_count": 91,
   "id": "2413b184",
   "metadata": {
    "colab": {
     "base_uri": "https://localhost:8080/"
    },
    "id": "2413b184",
    "outputId": "cbd45547-5e67-4fe3-dd2c-fb9ec4afc73c"
   },
   "outputs": [
    {
     "name": "stderr",
     "output_type": "stream",
     "text": [
      "\r",
      "  0%|                                                                                           | 0/10 [00:00<?, ?it/s]"
     ]
    },
    {
     "name": "stdout",
     "output_type": "stream",
     "text": [
      "Epoch: 0\n",
      "---------\n",
      "Train loss: 0.28 | Train accuracy: 91.07%\n"
     ]
    },
    {
     "name": "stderr",
     "output_type": "stream",
     "text": [
      "\r",
      " 10%|████████▏                                                                         | 1/10 [03:04<27:43, 184.85s/it]"
     ]
    },
    {
     "name": "stdout",
     "output_type": "stream",
     "text": [
      "Test loss: 0.05675 | Test accuracy: 98.18%\n",
      "\n",
      "Epoch: 1\n",
      "---------\n",
      "Train loss: 0.11 | Train accuracy: 96.58%\n"
     ]
    },
    {
     "name": "stderr",
     "output_type": "stream",
     "text": [
      "\r",
      " 20%|████████████████▍                                                                 | 2/10 [05:52<23:17, 174.68s/it]"
     ]
    },
    {
     "name": "stdout",
     "output_type": "stream",
     "text": [
      "Test loss: 0.04276 | Test accuracy: 98.62%\n",
      "\n",
      "Epoch: 2\n",
      "---------\n",
      "Train loss: 0.09 | Train accuracy: 97.34%\n"
     ]
    },
    {
     "name": "stderr",
     "output_type": "stream",
     "text": [
      "\r",
      " 30%|████████████████████████▌                                                         | 3/10 [08:36<19:50, 170.04s/it]"
     ]
    },
    {
     "name": "stdout",
     "output_type": "stream",
     "text": [
      "Test loss: 0.04229 | Test accuracy: 98.62%\n",
      "\n",
      "Epoch: 3\n",
      "---------\n",
      "Train loss: 0.07 | Train accuracy: 97.82%\n"
     ]
    },
    {
     "name": "stderr",
     "output_type": "stream",
     "text": [
      "\r",
      " 40%|████████████████████████████████▊                                                 | 4/10 [11:23<16:52, 168.69s/it]"
     ]
    },
    {
     "name": "stdout",
     "output_type": "stream",
     "text": [
      "Test loss: 0.03385 | Test accuracy: 98.84%\n",
      "\n",
      "Epoch: 4\n",
      "---------\n",
      "Train loss: 0.06 | Train accuracy: 98.17%\n"
     ]
    },
    {
     "name": "stderr",
     "output_type": "stream",
     "text": [
      "\r",
      " 50%|█████████████████████████████████████████                                         | 5/10 [14:13<14:06, 169.24s/it]"
     ]
    },
    {
     "name": "stdout",
     "output_type": "stream",
     "text": [
      "Test loss: 0.03780 | Test accuracy: 98.85%\n",
      "\n",
      "Epoch: 5\n",
      "---------\n",
      "Train loss: 0.05 | Train accuracy: 98.40%\n"
     ]
    },
    {
     "name": "stderr",
     "output_type": "stream",
     "text": [
      "\r",
      " 60%|█████████████████████████████████████████████████▏                                | 6/10 [17:03<11:17, 169.25s/it]"
     ]
    },
    {
     "name": "stdout",
     "output_type": "stream",
     "text": [
      "Test loss: 0.03176 | Test accuracy: 99.03%\n",
      "\n",
      "Epoch: 6\n",
      "---------\n",
      "Train loss: 0.05 | Train accuracy: 98.54%\n"
     ]
    },
    {
     "name": "stderr",
     "output_type": "stream",
     "text": [
      "\r",
      " 70%|█████████████████████████████████████████████████████████▍                        | 7/10 [19:47<08:22, 167.57s/it]"
     ]
    },
    {
     "name": "stdout",
     "output_type": "stream",
     "text": [
      "Test loss: 0.02851 | Test accuracy: 99.10%\n",
      "\n",
      "Epoch: 7\n",
      "---------\n",
      "Train loss: 0.04 | Train accuracy: 98.72%\n"
     ]
    },
    {
     "name": "stderr",
     "output_type": "stream",
     "text": [
      "\r",
      " 80%|█████████████████████████████████████████████████████████████████▌                | 8/10 [22:50<05:44, 172.47s/it]"
     ]
    },
    {
     "name": "stdout",
     "output_type": "stream",
     "text": [
      "Test loss: 0.02403 | Test accuracy: 99.21%\n",
      "\n",
      "Epoch: 8\n",
      "---------\n",
      "Train loss: 0.04 | Train accuracy: 98.86%\n"
     ]
    },
    {
     "name": "stderr",
     "output_type": "stream",
     "text": [
      "\r",
      " 90%|█████████████████████████████████████████████████████████████████████████▊        | 9/10 [25:34<02:49, 169.81s/it]"
     ]
    },
    {
     "name": "stdout",
     "output_type": "stream",
     "text": [
      "Test loss: 0.02303 | Test accuracy: 99.28%\n",
      "\n",
      "Epoch: 9\n",
      "---------\n",
      "Train loss: 0.04 | Train accuracy: 98.94%\n"
     ]
    },
    {
     "name": "stderr",
     "output_type": "stream",
     "text": [
      "100%|█████████████████████████████████████████████████████████████████████████████████| 10/10 [28:09<00:00, 168.97s/it]"
     ]
    },
    {
     "name": "stdout",
     "output_type": "stream",
     "text": [
      "Test loss: 0.02511 | Test accuracy: 99.28%\n",
      "\n"
     ]
    },
    {
     "name": "stderr",
     "output_type": "stream",
     "text": [
      "\n"
     ]
    }
   ],
   "source": [
    "loss_hist_cnn = {}\n",
    "\n",
    "loss_hist_cnn['train'] = {}\n",
    "loss_hist_cnn['test'] = {}\n",
    "\n",
    "epochs = 10\n",
    "for epoch in tqdm(range(epochs)):\n",
    "    print(f\"Epoch: {epoch}\\n---------\")\n",
    "    loss_cnn = train_step(data_loader=train_loader,\n",
    "        model=net,\n",
    "        loss_fn=loss_function,\n",
    "        optimizer=optimizer,\n",
    "        accuracy_fn=accuracy_fn\n",
    "    )\n",
    "\n",
    "    loss_hist_cnn['train'][epoch] = loss_cnn\n",
    "\n",
    "    loss_cnn_test = test_step(data_loader=test_loader,\n",
    "        model=net,\n",
    "        loss_fn=loss_function,\n",
    "        accuracy_fn=accuracy_fn\n",
    "    )\n",
    "\n",
    "    loss_hist_cnn['test'][epoch] = loss_cnn_test"
   ]
  },
  {
   "cell_type": "code",
   "execution_count": 97,
   "id": "e0f77412",
   "metadata": {},
   "outputs": [
    {
     "data": {
      "image/png": "[encoded data removed]",
      "text/plain": [
       "<Figure size 640x480 with 1 Axes>"
      ]
     },
     "metadata": {},
     "output_type": "display_data"
    }
   ],
   "source": [
    "train_loss_hist_cnn = [loss_hist_cnn['train'][val] for val in loss_hist_cnn['train']]\n",
    "test_loss_hist_cnn = [loss_hist_cnn['test'][val] for val in loss_hist_cnn['test']]\n",
    "\n",
    "plt.plot(np.arange(1,11), train_loss_hist_cnn)\n",
    "plt.plot(np.arange(1,11), test_loss_hist_cnn)\n",
    "\n",
    "plt.title('Train and Test Loss - CNN on MNIST Data')\n",
    "plt.legend(['train loss','test loss'])\n",
    "plt.xlabel('Epoch Number')\n",
    "plt.show()"
   ]
  },
  {
   "cell_type": "code",
   "execution_count": 109,
   "id": "fb19772f",
   "metadata": {},
   "outputs": [
    {
     "data": {
      "text/plain": [
       "tensor(9)"
      ]
     },
     "execution_count": 109,
     "metadata": {},
     "output_type": "execute_result"
    },
    {
     "data": {
      "image/png": "[encoded data removed]",
      "text/plain": [
       "<Figure size 400x400 with 1 Axes>"
      ]
     },
     "metadata": {},
     "output_type": "display_data"
    }
   ],
   "source": [
    "show_predict_digit_cnn(net,\n",
    "                  test_dataset,\n",
    "                  7)"
   ]
  },
  {
   "cell_type": "code",
   "execution_count": 111,
   "id": "b39d5282",
   "metadata": {},
   "outputs": [
    {
     "data": {
      "text/plain": [
       "tensor(5)"
      ]
     },
     "execution_count": 111,
     "metadata": {},
     "output_type": "execute_result"
    },
    {
     "data": {
      "image/png": "[encoded data removed]",
      "text/plain": [
       "<Figure size 400x400 with 1 Axes>"
      ]
     },
     "metadata": {},
     "output_type": "display_data"
    }
   ],
   "source": [
    "show_predict_digit_cnn(net,\n",
    "                  test_dataset,\n",
    "                  15)"
   ]
  }
 ],
 "metadata": {
  "accelerator": "GPU",
  "colab": {
   "gpuType": "T4",
   "provenance": []
  },
  "kernelspec": {
   "display_name": "pytorchf",
   "language": "python",
   "name": "myenv"
  },
  "language_info": {
   "codemirror_mode": {
    "name": "ipython",
    "version": 3
   },
   "file_extension": ".py",
   "mimetype": "text/x-python",
   "name": "python",
   "nbconvert_exporter": "python",
   "pygments_lexer": "ipython3",
   "version": "3.11.9"
  }
 },
 "nbformat": 4,
 "nbformat_minor": 5
}
